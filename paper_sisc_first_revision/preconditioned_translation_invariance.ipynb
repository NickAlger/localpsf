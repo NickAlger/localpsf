{
 "cells": [
  {
   "cell_type": "code",
   "execution_count": 1,
   "id": "e8f7395d",
   "metadata": {},
   "outputs": [],
   "source": [
    "import numpy as np"
   ]
  },
  {
   "cell_type": "markdown",
   "id": "5e9eef3e",
   "metadata": {},
   "source": [
    "$$f_1: \\mathbb{R}^d \\rightarrow \\mathbb{R}^d$$\n",
    "$$f_1(z):= \\mu_1 + \\Sigma_1^{1/2} z$$\n",
    "$$f_1(S) = E_1$$\n",
    "$$E_1 := \\{x: (x - \\mu_1)^T \\Sigma_1^{-1} (x - \\mu_1) < \\tau^2\\}$$\n",
    "Same thing for $f_1$, but with $\\mu_2$ and $\\Sigma_2$ replacing $\\mu_1$ and $\\Sigma_1$ respectively\n",
    "\n",
    "$$f_1^{-1}(p) = \\Sigma_1^{-1/2}(p - \\mu_1)$$"
   ]
  },
  {
   "cell_type": "markdown",
   "id": "9421d305",
   "metadata": {},
   "source": [
    " 0. $$\\phi_{x_1}(y) \\approx \\phi_{x_2}(y)$$\n",
    " 1. $$\\phi_{x_1}(y) \\approx \\phi_{x_2}(y - x_2 + x_1)$$\n",
    " 2. $$\\phi_{x_1}(y) \\approx \\phi_{x_2}(y - \\mu_2 + \\mu_1)$$\n",
    " 3. $$\\phi_{x_1}(y)/V_1 \\approx \\phi_{x_2}(y - \\mu_2 + \\mu_1) / V_2$$\n",
    " 4. $$\\phi_{x_1}(y) = \\phi_{x_2}(f_2(f_1^{-1}(y))) = \\phi_{x_2}(\\mu_2 + \\Sigma_2^{1/2}\\Sigma_1^{-1/2}(y - \\mu_1))$$\n",
    " 5. $$\\phi_{x_1}(y)/ (V_1 \\det \\Sigma_1^{-1/2}) = \\phi_{x_2}(\\mu_2 + \\Sigma_2^{1/2}\\Sigma_1^{-1/2}(y - \\mu_1))/ (V_2 \\det \\Sigma_2^{-1/2})$$"
   ]
  },
  {
   "cell_type": "markdown",
   "id": "46d61302",
   "metadata": {},
   "source": [
    "$$\\mathcal{R}_i(\\kappa, u) = u_t(t_i) + \\nabla \\cdot \\exp(\\kappa) \\nabla u(t_i)$$\n",
    "$$J p := A^{-1} C p$$\n",
    "$$C := \\frac{\\partial \\mathcal{R}_i}{\\partial \\kappa}$$\n",
    "$$v^T C p = -\\int_\\Omega p \\exp(\\kappa) \\nabla v \\cdot \\nabla u dx $$\n",
    "$$v^T C \\delta_y = -\\int_\\Omega \\delta_y \\exp(\\kappa) \\nabla v \\cdot \\nabla u dx = -\\exp(\\kappa(y)) \\nabla v(y) \\cdot \\nabla u(y)$$"
   ]
  },
  {
   "cell_type": "code",
   "execution_count": 2,
   "id": "2d8c84c4",
   "metadata": {},
   "outputs": [],
   "source": [
    "import dolfin as dl"
   ]
  },
  {
   "cell_type": "code",
   "execution_count": null,
   "id": "772bdafd",
   "metadata": {},
   "outputs": [],
   "source": []
  }
 ],
 "metadata": {
  "kernelspec": {
   "display_name": "Python 3 (ipykernel)",
   "language": "python",
   "name": "python3"
  },
  "language_info": {
   "codemirror_mode": {
    "name": "ipython",
    "version": 3
   },
   "file_extension": ".py",
   "mimetype": "text/x-python",
   "name": "python",
   "nbconvert_exporter": "python",
   "pygments_lexer": "ipython3",
   "version": "3.9.7"
  }
 },
 "nbformat": 4,
 "nbformat_minor": 5
}
